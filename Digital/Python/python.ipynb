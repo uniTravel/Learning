{
 "cells": [
  {
   "cell_type": "code",
   "execution_count": null,
   "metadata": {},
   "outputs": [],
   "source": [
    "# %load Digital/Python/Snippet/table.py\n",
    "import requests\n",
    "import pandas as pd\n",
    "from lxml import etree\n",
    "\n",
    "pd.options.display.max_rows = None\n",
    "\n",
    "url = \"https://www.educity.cn/mpacc/2112742.html\"\n",
    "res = requests.get(url)\n",
    "elem = etree.HTML(res.text)\n",
    "table = elem.xpath('//table')\n",
    "table = etree.tostring(table[0]).decode()\n",
    "df = pd.read_html(table, encoding='utf-8', header=0)[0]\n",
    "df = df.loc[~(df['学校'] == '学校')]\n",
    "df\n"
   ]
  },
  {
   "cell_type": "code",
   "execution_count": 11,
   "metadata": {},
   "outputs": [],
   "source": [
    "# %load Digital/Python/Snippet/article.py\n",
    "import requests\n",
    "import os\n",
    "from typing import List\n",
    "from unicodedata import normalize\n",
    "from lxml import etree\n",
    "\n",
    "\n",
    "def article_attribute(url: str, path: str) -> List[str]:\n",
    "    \"\"\"获取文章属性\n",
    "\n",
    "    主要针对具有文章索引页的情形，获取文章标题或URL。\n",
    "\n",
    "    Args:\n",
    "        url (str): 文章索引页URL\n",
    "        path (str): xpath函数的查询参数\n",
    "\n",
    "    Returns:\n",
    "        List[str]: 文章标题或URL\n",
    "    \"\"\"\n",
    "    res = etree.HTML(requests.get(url).text)\n",
    "    return res.xpath(path)\n",
    "\n",
    "\n",
    "def article_content(url: str, path: str) -> List[str]:\n",
    "    \"\"\"获取文章内容\n",
    "\n",
    "    Args:\n",
    "        url (str): 文章URL\n",
    "        path (str): xpath函数的查询参数\n",
    "\n",
    "    Returns:\n",
    "        List[str]: 文章内容列表\n",
    "    \"\"\"\n",
    "    res = etree.HTML(requests.get(url).text)\n",
    "    content = res.xpath(path)\n",
    "    for i, v in enumerate(content):\n",
    "        s = normalize(\"NFKD\", ''.join(v.itertext())).replace(' ', '')\n",
    "        content[i] = s.replace('\\r\\n', '\\n').replace('\\n\\n', '\\n')\n",
    "    return list(filter(None, content))\n",
    "\n",
    "\n",
    "def get_folder(folder: str) -> str:\n",
    "    \"\"\"获取文件夹，若不存在则创建\n",
    "\n",
    "    Args:\n",
    "        folder (str): 文件夹名称\n",
    "\n",
    "    Returns:\n",
    "        str: 文件夹绝对路径\n",
    "    \"\"\"\n",
    "    if not os.path.exists(folder):\n",
    "        os.mkdir(folder)\n",
    "    return os.path.abspath(folder) + '/'\n",
    "\n",
    "\n",
    "def to_file(fullname: str, url: str, path: str, mode: str = 'w') -> None:\n",
    "    \"\"\"获取文章内容并写入文件\n",
    "\n",
    "    Args:\n",
    "        fullname (str): [description]\n",
    "        url (str): 文章URL\n",
    "        path (str): xpath函数的查询参数\n",
    "        mode (str, optional): 写入文件的模式，缺省值为 'w'.\n",
    "    \"\"\"\n",
    "    content = article_content(url, path)\n",
    "    with open(fullname, mode, encoding='utf-8') as f:\n",
    "        f.write('\\n'.join(content))\n"
   ]
  },
  {
   "cell_type": "code",
   "execution_count": 12,
   "metadata": {},
   "outputs": [],
   "source": [
    "url = 'http://www.qingxin.gov.cn/zfxxgk/zfgzbg/content/post_1344062.html'\n",
    "path = '//div[@class=\"article-content\"]//p'\n",
    "folder = get_folder('QingXin')\n",
    "to_file(folder + \"工作报告.txt\", url, path)\n"
   ]
  },
  {
   "cell_type": "code",
   "execution_count": 13,
   "metadata": {},
   "outputs": [],
   "source": [
    "url = \"http://www.qingxin.gov.cn/zfxxgk/zfgzbg/\"\n",
    "titles = article_attribute(url, '//div[@class=\"channel_list\"]/ul/li/a/@title')\n",
    "urls = article_attribute(url, '//div[@class=\"channel_list\"]/ul/li/a/@href')\n",
    "path = '//div[@class=\"article-content\"]//p'\n",
    "folder = get_folder('QingXin')\n",
    "for title, url in zip(titles, urls):\n",
    "    name = folder + title + '.txt'\n",
    "    to_file(name, url, path)\n"
   ]
  }
 ],
 "metadata": {
  "interpreter": {
   "hash": "eba2b3663c263033fa48050afd4be034fd440ea20a4897d44e373d5edc99220a"
  },
  "kernelspec": {
   "display_name": "Python 3.8.12 64-bit ('asset': conda)",
   "name": "python3"
  },
  "language_info": {
   "codemirror_mode": {
    "name": "ipython",
    "version": 3
   },
   "file_extension": ".py",
   "mimetype": "text/x-python",
   "name": "python",
   "nbconvert_exporter": "python",
   "pygments_lexer": "ipython3",
   "version": "3.8.12"
  },
  "orig_nbformat": 4
 },
 "nbformat": 4,
 "nbformat_minor": 2
}
