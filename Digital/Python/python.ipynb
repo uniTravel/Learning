{
 "cells": [
  {
   "cell_type": "code",
   "execution_count": null,
   "metadata": {},
   "outputs": [],
   "source": [
    "# %load Digital/Python/Snippet/table.py\n",
    "import requests\n",
    "import pandas as pd\n",
    "from lxml import etree\n",
    "\n",
    "pd.options.display.max_rows = None\n",
    "\n",
    "url = \"https://www.educity.cn/mpacc/2112742.html\"\n",
    "res = requests.get(url)\n",
    "elem = etree.HTML(res.text)\n",
    "table = elem.xpath('//table')\n",
    "table = etree.tostring(table[0]).decode()\n",
    "df = pd.read_html(table, encoding='utf-8', header=0)[0]\n",
    "df = df.loc[~(df['学校'] == '学校')]\n",
    "df = df.sort_values(by='2020年').head(-3)\n",
    "# df = df.loc[df['2020年'].str.startswith('1', na=False)]\n",
    "# df = df.loc[df['学校'].str.contains('北京|上海|浙江|福建')]\n",
    "df\n"
   ]
  }
 ],
 "metadata": {
  "interpreter": {
   "hash": "eba2b3663c263033fa48050afd4be034fd440ea20a4897d44e373d5edc99220a"
  },
  "kernelspec": {
   "display_name": "Python 3.8.12 64-bit ('asset': conda)",
   "name": "python3"
  },
  "language_info": {
   "codemirror_mode": {
    "name": "ipython",
    "version": 3
   },
   "file_extension": ".py",
   "mimetype": "text/x-python",
   "name": "python",
   "nbconvert_exporter": "python",
   "pygments_lexer": "ipython3",
   "version": "3.8.12"
  },
  "orig_nbformat": 4
 },
 "nbformat": 4,
 "nbformat_minor": 2
}
